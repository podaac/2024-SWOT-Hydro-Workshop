{
 "cells": [
  {
   "cell_type": "markdown",
   "id": "fcb848a9-5162-495a-abcc-d60e0fbbfcae",
   "metadata": {},
   "source": [
    "*Internal Note:* \n",
    "\n",
    "- *The following is a tutorial template to be used by PO.DAAC staff when developing end-user tutorials.*\n",
    "- *Copy this template and edit to create your notebook, keeping as many key elements as appropriate.*\n",
    "- *DO NOT modify this template to create a tutorial. If you wish to make suggestions to improve the template please submit a PR and tag Catalina Oaida Taglialatela (ScienceCat18)*"
   ]
  },
  {
   "cell_type": "markdown",
   "id": "9c8ce58e-1146-465b-ad78-290e036a5ac8",
   "metadata": {},
   "source": [
    "> From the PO.DAAC Cookbook, to access the GitHub version of the notebook, follow [this link](insert link to notebook)."
   ]
  },
  {
   "cell_type": "markdown",
   "id": "60e44271-19b3-46af-a681-6a148ae9054d",
   "metadata": {},
   "source": [
    "# SWOT Hydro Science Application Tutorial\n",
    "#### *Authors: Cerbelaud A., Wade J., Jet Propulsion Laboratory - Caltech*"
   ]
  },
  {
   "cell_type": "markdown",
   "id": "28e9c61d-cb8e-4755-80c0-f9c219a793b8",
   "metadata": {},
   "source": [
    "## Summary\n",
    "\n",
    "_[Add summary/tutorial description here]_"
   ]
  },
  {
   "cell_type": "markdown",
   "id": "41ef0b4f-1963-4632-8e35-5700a7618db0",
   "metadata": {},
   "source": [
    "## Requirements\n",
    "\n",
    "### 1. Compute environment \n",
    "*internal note (remove this note in final tutorial): keep one or both of these Req 1 depending on environment required to run the noteook*\n",
    "\n",
    "This tutorial can be run in the following environments:\n",
    "- **AWS instance running in us-west-2**: NASA Earthdata Cloud data in S3 can be directly accessed via temporary credentials; this access is limited to requests made within the US West (Oregon) (code: `us-west-2`) AWS region.\n",
    "- **Local compute environment** e.g. laptop, server: this tutorial can be run on your local machine\n",
    "\n",
    "### 2. Earthdata Login\n",
    "\n",
    "An Earthdata Login account is required to access data, as well as discover restricted data, from the NASA Earthdata system. Thus, to access NASA data, you need Earthdata Login. Please visit https://urs.earthdata.nasa.gov to register and manage your Earthdata Login account. This account is free to create and only takes a moment to set up.\n",
    "\n",
    "### 3. Additional Requirements\n",
    "\n",
    "Any other requirements needed for reproducing this tutorial."
   ]
  },
  {
   "cell_type": "markdown",
   "id": "0c5068da-c207-4d8f-80ee-71b8ea97f1ec",
   "metadata": {},
   "source": [
    "## Learning Objectives\n",
    "- enter objective \n",
    "- enter objective \n",
    "- ...\n",
    "\n",
    "------"
   ]
  },
  {
   "cell_type": "markdown",
   "id": "fbff3ff9-7a4a-4ca8-b384-63369d0e6cc6",
   "metadata": {},
   "source": [
    "## Import Packages"
   ]
  },
  {
   "cell_type": "code",
   "execution_count": null,
   "id": "bcff32cd-7155-4700-a585-23412d01167f",
   "metadata": {},
   "outputs": [],
   "source": [
    "import glob\n",
    "import os\n",
    "import requests\n",
    "import s3fs\n",
    "import fiona\n",
    "import netCDF4 as nc\n",
    "import h5netcdf\n",
    "import xarray as xr\n",
    "import pandas as pd\n",
    "import geopandas as gpd\n",
    "import numpy as np\n",
    "import matplotlib.pyplot as plt\n",
    "import hvplot.xarray\n",
    "import earthaccess\n",
    "from earthaccess import Auth, DataCollections, DataGranules, Store"
   ]
  },
  {
   "cell_type": "markdown",
   "id": "8ac377af-6127-4eed-a34e-5a14291a7ae4",
   "metadata": {},
   "source": [
    "## Authenticate\n",
    "Authenticate your Earthdata Login (EDL) information using the `earthaccess` python package as follows:"
   ]
  },
  {
   "cell_type": "code",
   "execution_count": null,
   "id": "e6e47386-2308-4f02-955c-0533c7ebe962",
   "metadata": {},
   "outputs": [],
   "source": [
    "earthaccess.login() # Login with your EDL credentials if asked"
   ]
  },
  {
   "cell_type": "code",
   "execution_count": null,
   "id": "746b3bc6-b764-4ee0-8539-b623e4b0693d",
   "metadata": {},
   "outputs": [],
   "source": []
  },
  {
   "cell_type": "code",
   "execution_count": null,
   "id": "8abbb2df-7682-485e-a416-48b51bc9a72a",
   "metadata": {},
   "outputs": [],
   "source": []
  },
  {
   "cell_type": "code",
   "execution_count": null,
   "id": "397815a4-4816-4ba2-a80b-8db9b1d8a9ea",
   "metadata": {},
   "outputs": [],
   "source": []
  },
  {
   "cell_type": "code",
   "execution_count": null,
   "id": "f0d3484b-4857-4402-813e-29f41a3fe0ba",
   "metadata": {},
   "outputs": [],
   "source": []
  },
  {
   "cell_type": "code",
   "execution_count": null,
   "id": "17e5e909-1d6a-4f0a-a213-30ff3c653f63",
   "metadata": {},
   "outputs": [],
   "source": []
  },
  {
   "cell_type": "code",
   "execution_count": null,
   "id": "3ec1f07c-d3bb-4a4a-8c30-83a1c085e2f7",
   "metadata": {},
   "outputs": [],
   "source": []
  }
 ],
 "metadata": {
  "kernelspec": {
   "display_name": "Python 3 (ipykernel)",
   "language": "python",
   "name": "python3"
  },
  "language_info": {
   "codemirror_mode": {
    "name": "ipython",
    "version": 3
   },
   "file_extension": ".py",
   "mimetype": "text/x-python",
   "name": "python",
   "nbconvert_exporter": "python",
   "pygments_lexer": "ipython3",
   "version": "3.10.12"
  }
 },
 "nbformat": 4,
 "nbformat_minor": 5
}
