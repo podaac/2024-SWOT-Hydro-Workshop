{
 "cells": [
  {
   "cell_type": "markdown",
   "id": "fcb848a9-5162-495a-abcc-d60e0fbbfcae",
   "metadata": {},
   "source": [
    "# SWOT Hydrology Science Application in the Cloud\n",
    "\n",
    "## Header Placeholder\n",
    "\n",
    "### Requirement:\n",
    "This tutorial can only be run in an **AWS cloud instance running in us-west-2**: NASA Earthdata Cloud data in S3 can be directly accessed via `earthaccess` python library; this access is limited to requests made within the US West (Oregon) (code: `us-west-2`) AWS region.\n"
   ]
  },
  {
   "cell_type": "code",
   "execution_count": null,
   "id": "2b97b5ba-70bd-4431-84ab-feece45f65ce",
   "metadata": {},
   "outputs": [],
   "source": [
    "### Libraries Needed"
   ]
  },
  {
   "cell_type": "code",
   "execution_count": null,
   "id": "4b88e69a-a2ad-43b6-949e-45b66daec296",
   "metadata": {},
   "outputs": [],
   "source": [
    "### Requirement:\n"
   ]
  },
  {
   "cell_type": "code",
   "execution_count": null,
   "id": "bcff32cd-7155-4700-a585-23412d01167f",
   "metadata": {},
   "outputs": [],
   "source": [
    "import glob\n",
    "import os\n",
    "import requests\n",
    "import s3fs\n",
    "import fiona\n",
    "import netCDF4 as nc\n",
    "import h5netcdf\n",
    "import xarray as xr\n",
    "import pandas as pd\n",
    "import geopandas as gpd\n",
    "import numpy as np\n",
    "import matplotlib.pyplot as plt\n",
    "import hvplot.xarray\n",
    "import earthaccess\n",
    "from earthaccess import Auth, DataCollections, DataGranules, Store"
   ]
  }
 ],
 "metadata": {
  "kernelspec": {
   "display_name": "Python 3 (ipykernel)",
   "language": "python",
   "name": "python3"
  },
  "language_info": {
   "codemirror_mode": {
    "name": "ipython",
    "version": 3
   },
   "file_extension": ".py",
   "mimetype": "text/x-python",
   "name": "python",
   "nbconvert_exporter": "python",
   "pygments_lexer": "ipython3",
   "version": "3.10.12"
  }
 },
 "nbformat": 4,
 "nbformat_minor": 5
}
